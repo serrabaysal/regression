{
 "cells": [
  {
   "cell_type": "code",
   "execution_count": 2,
   "metadata": {},
   "outputs": [
    {
     "name": "stdout",
     "output_type": "stream",
     "text": [
      "   otel_yildizi   sehir  oda_sayisi  denize_yakinlik    mevsim  ortalama_puan  \\\n",
      "0             4   Izmir          92         1.556465  Sonbahar       2.465119   \n",
      "1             5   Izmir          71         1.569604     Bahar       6.356916   \n",
      "2             3   Izmir          32         3.741647  Sonbahar       2.354250   \n",
      "3             5   Izmir          11         0.335900       Kış       9.712687   \n",
      "4             5  Bodrum          10         4.524185       Yaz       5.020431   \n",
      "\n",
      "         fiyat  \n",
      "0  1561.896794  \n",
      "1   585.284813  \n",
      "2   504.618080  \n",
      "3   414.928074  \n",
      "4  1530.849621  \n",
      "Veri CSV dosyasına kaydedildi.\n"
     ]
    }
   ],
   "source": [
    "import numpy as np\n",
    "import pandas as pd\n",
    "\n",
    "# Rastgelelik için sabit bir tohum\n",
    "np.random.seed(42)\n",
    "\n",
    "# Veri seti boyutu\n",
    "n_samples = 1000\n",
    "\n",
    "# Veriler\n",
    "otel_yildizi = np.random.choice([1, 2, 3, 4, 5], size=n_samples)\n",
    "sehir = np.random.choice(['Istanbul', 'Antalya', 'Ankara', 'Izmir', 'Bodrum'], size=n_samples)\n",
    "oda_sayisi = np.random.randint(1, 100, size=n_samples)\n",
    "denize_yakinlik = np.random.uniform(0.1, 5.0, size=n_samples)\n",
    "mevsim = np.random.choice(['Yaz', 'Kış', 'Bahar', 'Sonbahar'], size=n_samples)\n",
    "ortalama_puan = np.random.uniform(1.0, 10.0, size=n_samples)\n",
    "fiyat = np.random.uniform(300, 2000, size=n_samples)\n",
    "\n",
    "# DataFrame oluşturma\n",
    "data = {\n",
    "    'otel_yildizi': otel_yildizi,\n",
    "    'sehir': sehir,\n",
    "    'oda_sayisi': oda_sayisi,\n",
    "    'denize_yakinlik': denize_yakinlik,\n",
    "    'mevsim': mevsim,\n",
    "    'ortalama_puan': ortalama_puan,\n",
    "    'fiyat': fiyat\n",
    "}\n",
    "\n",
    "df = pd.DataFrame(data)\n",
    "\n",
    "# Veri setini görüntüleme\n",
    "print(df.head())\n",
    "\n",
    "# Veriyi CSV olarak kaydetme (isteğe bağlı)\n",
    "df.to_csv('veri.csv', index=False)\n",
    "print(\"Veri CSV dosyasına kaydedildi.\")\n"
   ]
  }
 ],
 "metadata": {
  "kernelspec": {
   "display_name": "BTK-AI",
   "language": "python",
   "name": "python3"
  },
  "language_info": {
   "codemirror_mode": {
    "name": "ipython",
    "version": 3
   },
   "file_extension": ".py",
   "mimetype": "text/x-python",
   "name": "python",
   "nbconvert_exporter": "python",
   "pygments_lexer": "ipython3",
   "version": "3.12.4"
  }
 },
 "nbformat": 4,
 "nbformat_minor": 2
}
